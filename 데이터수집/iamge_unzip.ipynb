{
 "cells": [
  {
   "cell_type": "code",
   "execution_count": 8,
   "metadata": {},
   "outputs": [
    {
     "name": "stdout",
     "output_type": "stream",
     "text": [
      "C:\\Users\\jhp12\\Desktop\\park\\DATA\\185.CCTV 기반 차량정보 및 교통정보 계측 데이터\\01-1.정식개방데이터\\Training\\01.원천데이터\\TS_차량번호판인식_교차로_[cr02]안양시청사거리_02번.zip\n",
      "C:\\Users\\jhp12\\Desktop\\park\\DATA\\185.CCTV 기반 차량정보 및 교통정보 계측 데이터\\01-1.정식개방데이터\\Training\\01.원천데이터\\TS_차량번호판인식_교차로_[cr02]안양시청사거리_03번.zip\n",
      "C:\\Users\\jhp12\\Desktop\\park\\DATA\\185.CCTV 기반 차량정보 및 교통정보 계측 데이터\\01-1.정식개방데이터\\Training\\01.원천데이터\\TS_차량번호판인식_교차로_[cr05]인덕원사거리_03번.zip\n",
      "C:\\Users\\jhp12\\Desktop\\park\\DATA\\185.CCTV 기반 차량정보 및 교통정보 계측 데이터\\01-1.정식개방데이터\\Training\\01.원천데이터\\TS_차종외관인식_교차로_[cr02]안양시청사거리_02번.zip\n",
      "C:\\Users\\jhp12\\Desktop\\park\\DATA\\185.CCTV 기반 차량정보 및 교통정보 계측 데이터\\01-1.정식개방데이터\\Training\\01.원천데이터\\TS_차종외관인식_교차로_[cr02]안양시청사거리_03번.zip\n",
      "C:\\Users\\jhp12\\Desktop\\park\\DATA\\185.CCTV 기반 차량정보 및 교통정보 계측 데이터\\01-1.정식개방데이터\\Training\\01.원천데이터\\TS_차종외관인식_교차로_[cr03]범계사거리_03번.zip\n",
      "C:\\Users\\jhp12\\Desktop\\park\\DATA\\185.CCTV 기반 차량정보 및 교통정보 계측 데이터\\01-1.정식개방데이터\\Validation\\01.원천데이터\\VS_차량번호판인식_교차로_[cr03]범계사거리_04번.zip\n",
      "C:\\Users\\jhp12\\Desktop\\park\\DATA\\185.CCTV 기반 차량정보 및 교통정보 계측 데이터\\01-1.정식개방데이터\\Validation\\01.원천데이터\\VS_차량번호판인식_교차로_[cr05]인덕원사거리_04번.zip\n",
      "C:\\Users\\jhp12\\Desktop\\park\\DATA\\185.CCTV 기반 차량정보 및 교통정보 계측 데이터\\01-1.정식개방데이터\\Validation\\01.원천데이터\\VS_차량번호판인식_교차로_[cr06]호계사거리_04번.zip\n",
      "C:\\Users\\jhp12\\Desktop\\park\\DATA\\185.CCTV 기반 차량정보 및 교통정보 계측 데이터\\01-1.정식개방데이터\\Validation\\01.원천데이터\\VS_차량번호판인식_교차로_[cr12]휴양림입구사거리_04번.zip\n",
      "C:\\Users\\jhp12\\Desktop\\park\\DATA\\185.CCTV 기반 차량정보 및 교통정보 계측 데이터\\01-1.정식개방데이터\\Validation\\01.원천데이터\\VS_차량번호판인식_접근로_[ar02]인덕원사거리성남방향_02번.zip\n",
      "C:\\Users\\jhp12\\Desktop\\park\\DATA\\185.CCTV 기반 차량정보 및 교통정보 계측 데이터\\01-1.정식개방데이터\\Validation\\01.원천데이터\\VS_차량번호판인식_접근로_[ar04]인덕원사거리동편마을방향_04번.zip\n",
      "C:\\Users\\jhp12\\Desktop\\park\\DATA\\185.CCTV 기반 차량정보 및 교통정보 계측 데이터\\01-1.정식개방데이터\\Validation\\01.원천데이터\\VS_차량번호판인식_접근로_[ar05]호계사거리서울방향_01번.zip\n",
      "C:\\Users\\jhp12\\Desktop\\park\\DATA\\185.CCTV 기반 차량정보 및 교통정보 계측 데이터\\01-1.정식개방데이터\\Validation\\01.원천데이터\\VS_차량번호판인식_접근로_[ar06]호계사거리덕고개방향_02번.zip\n",
      "C:\\Users\\jhp12\\Desktop\\park\\DATA\\185.CCTV 기반 차량정보 및 교통정보 계측 데이터\\01-1.정식개방데이터\\Validation\\01.원천데이터\\VS_차량번호판인식_접근로_[ar07]호계사거리수원방향_03번.zip\n",
      "C:\\Users\\jhp12\\Desktop\\park\\DATA\\185.CCTV 기반 차량정보 및 교통정보 계측 데이터\\01-1.정식개방데이터\\Validation\\01.원천데이터\\VS_차량번호판인식_접근로_[ar08]호계사거리유통단지방향_04번.zip\n",
      "C:\\Users\\jhp12\\Desktop\\park\\DATA\\185.CCTV 기반 차량정보 및 교통정보 계측 데이터\\01-1.정식개방데이터\\Validation\\01.원천데이터\\VS_차량번호판인식_접근로_[ar09]판교동안사거리_01번.zip\n",
      "C:\\Users\\jhp12\\Desktop\\park\\DATA\\185.CCTV 기반 차량정보 및 교통정보 계측 데이터\\01-1.정식개방데이터\\Validation\\01.원천데이터\\VS_차종외관인식_교차로_[cr01]비산사거리_01번.zip\n",
      "C:\\Users\\jhp12\\Desktop\\park\\DATA\\185.CCTV 기반 차량정보 및 교통정보 계측 데이터\\01-1.정식개방데이터\\Validation\\01.원천데이터\\VS_차종외관인식_교차로_[cr02]안양시청사거리_01번.zip\n",
      "C:\\Users\\jhp12\\Desktop\\park\\DATA\\185.CCTV 기반 차량정보 및 교통정보 계측 데이터\\01-1.정식개방데이터\\Validation\\01.원천데이터\\VS_차종외관인식_교차로_[cr03]범계사거리_04번.zip\n",
      "C:\\Users\\jhp12\\Desktop\\park\\DATA\\185.CCTV 기반 차량정보 및 교통정보 계측 데이터\\01-1.정식개방데이터\\Validation\\01.원천데이터\\VS_차종외관인식_교차로_[cr05]인덕원사거리_03번.zip\n",
      "C:\\Users\\jhp12\\Desktop\\park\\DATA\\185.CCTV 기반 차량정보 및 교통정보 계측 데이터\\01-1.정식개방데이터\\Validation\\01.원천데이터\\VS_차종외관인식_교차로_[cr12]휴양림입구사거리_05번.zip\n",
      "C:\\Users\\jhp12\\Desktop\\park\\DATA\\185.CCTV 기반 차량정보 및 교통정보 계측 데이터\\01-1.정식개방데이터\\Validation\\01.원천데이터\\VS_차종외관인식_접근로_[ar09]판교동안사거리_01번.zip\n",
      "진행율 :  23 중  1 개 진행중\n",
      "진행율 :  23 중  2 개 진행중\n",
      "진행율 :  23 중  3 개 진행중\n",
      "진행율 :  23 중  4 개 진행중\n",
      "진행율 :  23 중  5 개 진행중\n",
      "진행율 :  23 중  6 개 진행중\n",
      "진행율 :  23 중  7 개 진행중\n",
      "진행율 :  23 중  8 개 진행중\n",
      "진행율 :  23 중  9 개 진행중\n",
      "진행율 :  23 중  10 개 진행중\n",
      "진행율 :  23 중  11 개 진행중\n",
      "진행율 :  23 중  12 개 진행중\n",
      "진행율 :  23 중  13 개 진행중\n",
      "진행율 :  23 중  14 개 진행중\n",
      "진행율 :  23 중  15 개 진행중\n",
      "진행율 :  23 중  16 개 진행중\n",
      "진행율 :  23 중  17 개 진행중\n",
      "진행율 :  23 중  18 개 진행중\n",
      "진행율 :  23 중  19 개 진행중\n",
      "진행율 :  23 중  20 개 진행중\n",
      "진행율 :  23 중  21 개 진행중\n",
      "진행율 :  23 중  22 개 진행중\n",
      "진행율 :  23 중  23 개 진행중\n"
     ]
    }
   ],
   "source": [
    "import os\n",
    "import zipfile\n",
    "\n",
    "directory = r'C:\\Users\\jhp12\\Desktop\\park\\DATA\\185.CCTV 기반 차량정보 및 교통정보 계측 데이터\\01-1.정식개방데이터'\n",
    "\n",
    "# 디렉토리 내의 모든 파일 목록 가져오기\n",
    "file_paths = []\n",
    "\n",
    "for root, dirs, files in os.walk(directory):\n",
    "    for file_name in files:\n",
    "        file_paths.append(os.path.join(root, file_name))\n",
    "\n",
    "# 파일 목록 출력\n",
    "for file_path in file_paths:\n",
    "    print(file_path)\n",
    "\n",
    "def unzip_file(file_path):\n",
    "    # 압축 파일의 디렉토리 부분 추출\n",
    "    extract_dir = os.path.dirname(file_path)\n",
    "    \n",
    "    with zipfile.ZipFile(file_path, 'r') as zip_ref:\n",
    "        zip_ref.extractall(extract_dir)\n",
    "\n",
    "# 파일 목록을 순회하며 압축 해제\n",
    "cnt = 0\n",
    "for file_path in file_paths:\n",
    "    cnt += 1\n",
    "    print('진행율 : ', len(file_paths), '중 ', cnt, '개 진행중')\n",
    "    unzip_file(file_path)\n",
    "    \n"
   ]
  },
  {
   "cell_type": "code",
   "execution_count": 9,
   "metadata": {},
   "outputs": [
    {
     "data": {
      "text/plain": [
       "CompletedProcess(args=['shutdown', '/s', '/f', '/t', '7200'], returncode=0)"
      ]
     },
     "execution_count": 9,
     "metadata": {},
     "output_type": "execute_result"
    }
   ],
   "source": [
    "import subprocess\n",
    "\n",
    "# 시스템을 예약 종료할 시간 계산 (현재 시간으로부터 10시간 후)\n",
    "seconds_in_10_hours = 2 * 60 * 60\n",
    "\n",
    "# shutdown 명령어 실행\n",
    "subprocess.run(['shutdown', '/s', '/f', '/t', str(seconds_in_10_hours)])\n"
   ]
  }
 ],
 "metadata": {
  "kernelspec": {
   "display_name": "iist_weather",
   "language": "python",
   "name": "python3"
  },
  "language_info": {
   "codemirror_mode": {
    "name": "ipython",
    "version": 3
   },
   "file_extension": ".py",
   "mimetype": "text/x-python",
   "name": "python",
   "nbconvert_exporter": "python",
   "pygments_lexer": "ipython3",
   "version": "3.9.18"
  }
 },
 "nbformat": 4,
 "nbformat_minor": 2
}
